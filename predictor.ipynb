{
 "cells": [
  {
   "cell_type": "code",
   "execution_count": 167,
   "metadata": {
    "collapsed": false
   },
   "outputs": [],
   "source": [
    "import numpy as np\n",
    "import matplotlib.pyplot as plt\n",
    "\n",
    "from PIL import Image, ImageOps\n",
    "from scipy import misc\n",
    "from keras.models import load_model\n",
    "from keras.datasets import mnist"
   ]
  },
  {
   "cell_type": "code",
   "execution_count": 155,
   "metadata": {
    "collapsed": true
   },
   "outputs": [],
   "source": [
    "(x_train, y_train), (x_test, y_test) = mnist.load_data()"
   ]
  },
  {
   "cell_type": "code",
   "execution_count": 156,
   "metadata": {
    "collapsed": false
   },
   "outputs": [],
   "source": [
    "model = load_model('mnist.h5')"
   ]
  },
  {
   "cell_type": "code",
   "execution_count": 157,
   "metadata": {
    "collapsed": false
   },
   "outputs": [],
   "source": [
    "normalize = np.vectorize(lambda x: 1 if x > 128 else 0)"
   ]
  },
  {
   "cell_type": "code",
   "execution_count": 175,
   "metadata": {
    "collapsed": false
   },
   "outputs": [],
   "source": [
    "raw = Image.open('real_data/(15,81).jpg')\n",
    "raw_reversed = ImageOps.invert(raw)\n",
    "raw_rev_resized = misc.imresize(raw_reversed, (28, 28))\n",
    "normalized = normalize(raw_rev_resized)"
   ]
  },
  {
   "cell_type": "code",
   "execution_count": 159,
   "metadata": {
    "collapsed": false
   },
   "outputs": [],
   "source": [
    "# normalized[:,27] = 0"
   ]
  },
  {
   "cell_type": "code",
   "execution_count": 160,
   "metadata": {
    "collapsed": false
   },
   "outputs": [
    {
     "data": {
      "image/png": "[encoded data removed]",
      "text/plain": [
       "<matplotlib.figure.Figure at 0x120422400>"
      ]
     },
     "metadata": {},
     "output_type": "display_data"
    }
   ],
   "source": [
    "plt.subplot(131)\n",
    "plt.title('ORIGINAL')\n",
    "plt.imshow(raw)\n",
    "\n",
    "plt.subplot(132)\n",
    "plt.title('INVERTED')\n",
    "plt.imshow(raw_rev_resized)\n",
    "\n",
    "plt.subplot(133)\n",
    "plt.title('NORMALIZED')\n",
    "plt.imshow(normalized)\n",
    "\n",
    "plt.show()"
   ]
  },
  {
   "cell_type": "code",
   "execution_count": 161,
   "metadata": {
    "collapsed": false
   },
   "outputs": [],
   "source": [
    "predictions = model.predict(np.array([normalized.flatten()]))"
   ]
  },
  {
   "cell_type": "code",
   "execution_count": 162,
   "metadata": {
    "collapsed": false
   },
   "outputs": [
    {
     "name": "stdout",
     "output_type": "stream",
     "text": [
      "0: 0.0\n",
      "1: 0.0\n",
      "2: 3.84866e-23\n",
      "3: 1.0\n",
      "4: 0.0\n",
      "5: 2.56836e-25\n",
      "6: 0.0\n",
      "7: 7.69549e-15\n",
      "8: 2.95655e-32\n",
      "9: 8.27073e-32\n"
     ]
    }
   ],
   "source": [
    "for (idx, pred) in enumerate(predictions[0]):\n",
    "    print(str(idx) + ': ' + str(pred))"
   ]
  },
  {
   "cell_type": "code",
   "execution_count": 128,
   "metadata": {
    "collapsed": false
   },
   "outputs": [
    {
     "data": {
      "text/plain": [
       "1.0"
      ]
     },
     "execution_count": 128,
     "metadata": {},
     "output_type": "execute_result"
    }
   ],
   "source": [
    "max(predictions[0])"
   ]
  },
  {
   "cell_type": "code",
   "execution_count": null,
   "metadata": {
    "collapsed": false
   },
   "outputs": [],
   "source": []
  },
  {
   "cell_type": "code",
   "execution_count": 163,
   "metadata": {
    "collapsed": false
   },
   "outputs": [
    {
     "data": {
      "image/png": "[encoded data removed]",
      "text/plain": [
       "<matplotlib.figure.Figure at 0x12418e6d8>"
      ]
     },
     "metadata": {},
     "output_type": "display_data"
    },
    {
     "name": "stdout",
     "output_type": "stream",
     "text": [
      "0: 4.43138e-17\n",
      "1: 5.12485e-17\n",
      "2: 7.24165e-11\n",
      "3: 3.71337e-08\n",
      "4: 4.20239e-23\n",
      "5: 6.03738e-15\n",
      "6: 2.24253e-26\n",
      "7: 1.0\n",
      "8: 2.57007e-15\n",
      "9: 8.87119e-13\n"
     ]
    },
    {
     "data": {
      "image/png": "[encoded data removed]",
      "text/plain": [
       "<matplotlib.figure.Figure at 0x1297981d0>"
      ]
     },
     "metadata": {},
     "output_type": "display_data"
    },
    {
     "name": "stdout",
     "output_type": "stream",
     "text": [
      "0: 4.31185e-16\n",
      "1: 3.18256e-13\n",
      "2: 1.0\n",
      "3: 1.60371e-16\n",
      "4: 1.28346e-31\n",
      "5: 2.61144e-17\n",
      "6: 8.95729e-21\n",
      "7: 2.30632e-24\n",
      "8: 1.79965e-18\n",
      "9: 2.32532e-26\n"
     ]
    },
    {
     "data": {
      "image/png": "[encoded data removed]",
      "text/plain": [
       "<matplotlib.figure.Figure at 0x12418e160>"
      ]
     },
     "metadata": {},
     "output_type": "display_data"
    },
    {
     "name": "stdout",
     "output_type": "stream",
     "text": [
      "0: 2.4113e-12\n",
      "1: 0.999978\n",
      "2: 4.29154e-09\n",
      "3: 8.50371e-11\n",
      "4: 1.49667e-07\n",
      "5: 2.29376e-10\n",
      "6: 2.63052e-09\n",
      "7: 2.07952e-05\n",
      "8: 1.14499e-06\n",
      "9: 5.09404e-10\n"
     ]
    },
    {
     "data": {
      "image/png": "[encoded data removed]",
      "text/plain": [
       "<matplotlib.figure.Figure at 0x12043bf98>"
      ]
     },
     "metadata": {},
     "output_type": "display_data"
    },
    {
     "name": "stdout",
     "output_type": "stream",
     "text": [
      "0: 1.0\n",
      "1: 3.16461e-14\n",
      "2: 2.22048e-07\n",
      "3: 6.54967e-13\n",
      "4: 1.74367e-12\n",
      "5: 4.46356e-10\n",
      "6: 3.68179e-09\n",
      "7: 3.7137e-09\n",
      "8: 7.24371e-13\n",
      "9: 2.71826e-10\n"
     ]
    },
    {
     "data": {
      "image/png": "[encoded data removed]",
      "text/plain": [
       "<matplotlib.figure.Figure at 0x124ee2390>"
      ]
     },
     "metadata": {},
     "output_type": "display_data"
    },
    {
     "name": "stdout",
     "output_type": "stream",
     "text": [
      "0: 1.37922e-11\n",
      "1: 3.7192e-22\n",
      "2: 1.0722e-13\n",
      "3: 1.54333e-18\n",
      "4: 0.999997\n",
      "5: 2.39991e-18\n",
      "6: 5.55042e-13\n",
      "7: 1.51749e-07\n",
      "8: 1.46903e-14\n",
      "9: 2.5833e-06\n"
     ]
    },
    {
     "data": {
      "image/png": "[encoded data removed]",
      "text/plain": [
       "<matplotlib.figure.Figure at 0x129a41240>"
      ]
     },
     "metadata": {},
     "output_type": "display_data"
    },
    {
     "name": "stdout",
     "output_type": "stream",
     "text": [
      "0: 1.36723e-14\n",
      "1: 0.999977\n",
      "2: 1.24043e-12\n",
      "3: 5.63722e-12\n",
      "4: 6.40409e-08\n",
      "5: 2.36442e-14\n",
      "6: 6.07386e-13\n",
      "7: 2.24041e-05\n",
      "8: 1.27484e-08\n",
      "9: 2.1438e-11\n"
     ]
    },
    {
     "data": {
      "image/png": "[encoded data removed]",
      "text/plain": [
       "<matplotlib.figure.Figure at 0x124f04208>"
      ]
     },
     "metadata": {},
     "output_type": "display_data"
    },
    {
     "name": "stdout",
     "output_type": "stream",
     "text": [
      "0: 1.71163e-18\n",
      "1: 1.06173e-16\n",
      "2: 8.17316e-15\n",
      "3: 2.61916e-13\n",
      "4: 0.996884\n",
      "5: 4.74504e-09\n",
      "6: 6.67353e-12\n",
      "7: 4.37513e-08\n",
      "8: 0.000169208\n",
      "9: 0.00294708\n"
     ]
    },
    {
     "data": {
      "image/png": "[encoded data removed]",
      "text/plain": [
       "<matplotlib.figure.Figure at 0x126099b38>"
      ]
     },
     "metadata": {},
     "output_type": "display_data"
    },
    {
     "name": "stdout",
     "output_type": "stream",
     "text": [
      "0: 1.85946e-10\n",
      "1: 1.34531e-10\n",
      "2: 1.58478e-07\n",
      "3: 2.50226e-05\n",
      "4: 3.51358e-06\n",
      "5: 1.51737e-06\n",
      "6: 1.25323e-13\n",
      "7: 3.23667e-07\n",
      "8: 1.98021e-08\n",
      "9: 0.999969\n"
     ]
    },
    {
     "data": {
      "image/png": "[encoded data removed]",
      "text/plain": [
       "<matplotlib.figure.Figure at 0x125766160>"
      ]
     },
     "metadata": {},
     "output_type": "display_data"
    },
    {
     "name": "stdout",
     "output_type": "stream",
     "text": [
      "0: 1.441e-12\n",
      "1: 7.2367e-23\n",
      "2: 9.69476e-14\n",
      "3: 2.62043e-13\n",
      "4: 1.16247e-14\n",
      "5: 0.00818948\n",
      "6: 0.991811\n",
      "7: 5.97339e-14\n",
      "8: 7.94643e-11\n",
      "9: 9.01015e-09\n"
     ]
    },
    {
     "data": {
      "image/png": "[encoded data removed]",
      "text/plain": [
       "<matplotlib.figure.Figure at 0x129a4def0>"
      ]
     },
     "metadata": {},
     "output_type": "display_data"
    },
    {
     "name": "stdout",
     "output_type": "stream",
     "text": [
      "0: 6.4877e-16\n",
      "1: 3.1481e-15\n",
      "2: 1.62071e-15\n",
      "3: 7.99481e-09\n",
      "4: 8.98818e-05\n",
      "5: 9.70978e-10\n",
      "6: 2.51611e-15\n",
      "7: 1.04671e-05\n",
      "8: 1.96489e-06\n",
      "9: 0.999898\n"
     ]
    }
   ],
   "source": [
    "# for i in range(0, 10):\n",
    "#     sth = normalize(x_test[i])\n",
    "\n",
    "#     plt.imshow(sth)\n",
    "#     plt.show()\n",
    "\n",
    "#     predictions = model.predict(np.array([sth.flatten()]))\n",
    "#     for (idx, pred) in enumerate(predictions[0]):\n",
    "#         print(str(idx) + ': ' + str(pred))"
   ]
  },
  {
   "cell_type": "code",
   "execution_count": 166,
   "metadata": {
    "collapsed": false
   },
   "outputs": [],
   "source": [
    "# for i in range(0, 100):\n",
    "#     if y_train[i] == 8:\n",
    "#         plt.imshow(normalize(x_train[i]))\n",
    "#         plt.show()"
   ]
  },
  {
   "cell_type": "code",
   "execution_count": 177,
   "metadata": {
    "collapsed": true
   },
   "outputs": [],
   "source": [
    "class Model:\n",
    "    def load(self, model_path):\n",
    "        self.model = load_model(model_path)\n",
    "        \n",
    "    def predict(self, img, debug=False):\n",
    "        img_vec = Model.__to_vector(img)\n",
    "        predictions = self.model.predict(np.array([img_vec]))\n",
    "        if (debug):\n",
    "            for i, p in enumerate(predictions[0]):\n",
    "                print(str(i + 1) + ' --> ' + str(p))\n",
    "        return np.argmax(predictions, axis=1)[0] + 1\n",
    "    \n",
    "    @staticmethod\n",
    "    def __to_vector(image):\n",
    "        normalize = np.vectorize(lambda x: 1 if x > 128 else 0)\n",
    "        return normalize(np.array(image)).flatten()"
   ]
  },
  {
   "cell_type": "code",
   "execution_count": 178,
   "metadata": {
    "collapsed": true
   },
   "outputs": [],
   "source": [
    "m = Model()"
   ]
  },
  {
   "cell_type": "code",
   "execution_count": 179,
   "metadata": {
    "collapsed": false
   },
   "outputs": [],
   "source": [
    "m.load('grea.h5')"
   ]
  },
  {
   "cell_type": "code",
   "execution_count": 180,
   "metadata": {
    "collapsed": false
   },
   "outputs": [
    {
     "data": {
      "text/plain": [
       "8"
      ]
     },
     "execution_count": 180,
     "metadata": {},
     "output_type": "execute_result"
    }
   ],
   "source": [
    "m.predict(raw)"
   ]
  },
  {
   "cell_type": "code",
   "execution_count": null,
   "metadata": {
    "collapsed": true
   },
   "outputs": [],
   "source": []
  }
 ],
 "metadata": {
  "kernelspec": {
   "display_name": "Python 3",
   "language": "python",
   "name": "python3"
  },
  "language_info": {
   "codemirror_mode": {
    "name": "ipython",
    "version": 3
   },
   "file_extension": ".py",
   "mimetype": "text/x-python",
   "name": "python",
   "nbconvert_exporter": "python",
   "pygments_lexer": "ipython3",
   "version": "3.6.0"
  },
  "toc": {
   "colors": {
    "hover_highlight": "#DAA520",
    "navigate_num": "#000000",
    "navigate_text": "#333333",
    "running_highlight": "#FF0000",
    "selected_highlight": "#FFD700",
    "sidebar_border": "#EEEEEE",
    "wrapper_background": "#FFFFFF"
   },
   "moveMenuLeft": true,
   "nav_menu": {
    "height": "12px",
    "width": "252px"
   },
   "navigate_menu": true,
   "number_sections": true,
   "sideBar": true,
   "threshold": 4,
   "toc_cell": false,
   "toc_section_display": "block",
   "toc_window_display": false,
   "widenNotebook": false
  }
 },
 "nbformat": 4,
 "nbformat_minor": 2
}
